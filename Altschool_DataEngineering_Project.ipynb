{
 "cells": [
  {
   "cell_type": "code",
   "execution_count": 1,
   "id": "ddb36177",
   "metadata": {},
   "outputs": [],
   "source": [
    "from uuid import uuid4\n",
    "from datetime import datetime, timezone\n",
    "\n",
    "class Expense:\n",
    "    def __init__(self, title, amount):\n",
    "        self.id = str(uuid4())\n",
    "        self.title = title\n",
    "        self.amount = amount\n",
    "        self.created_at = datetime.now(timezone.utc)\n",
    "        self.updated_at = self.created_at\n",
    "\n",
    "    def update(self, title=None, amount=None):\n",
    "        if title:\n",
    "            self.title = title\n",
    "        if amount:\n",
    "            self.amount = amount\n",
    "        self.updated_at = datetime.now(timezone.utc)\n",
    "\n",
    "    def to_dict(self):\n",
    "        return {\n",
    "            'id': self.id,\n",
    "            'title': self.title,\n",
    "            'amount': self.amount,\n",
    "            'created_at': self.created_at.isoformat(),\n",
    "            'updated_at': self.updated_at.isoformat()\n",
    "        }\n"
   ]
  },
  {
   "cell_type": "code",
   "execution_count": 2,
   "id": "848ee91c",
   "metadata": {},
   "outputs": [
    {
     "name": "stdout",
     "output_type": "stream",
     "text": [
      "Initial Expense:\n",
      "{'id': '37cc9a65-59e5-48cc-90cb-4f0377e34645', 'title': 'Groceries', 'amount': 100.0, 'created_at': '2023-12-24T19:36:08.648865+00:00', 'updated_at': '2023-12-24T19:36:08.648865+00:00'}\n",
      "\n",
      "Updated Expense:\n",
      "{'id': '37cc9a65-59e5-48cc-90cb-4f0377e34645', 'title': 'Updated Groceries', 'amount': 120.0, 'created_at': '2023-12-24T19:36:08.648865+00:00', 'updated_at': '2023-12-24T19:36:08.649868+00:00'}\n"
     ]
    }
   ],
   "source": [
    "# Create an instance of the Expense class\n",
    "expense = Expense(\"Groceries\", 100.0)\n",
    "\n",
    "# Display the initial expense details\n",
    "print(\"Initial Expense:\")\n",
    "print(expense.to_dict())\n",
    "\n",
    "# Update the expense\n",
    "expense.update(title=\"Updated Groceries\", amount=120.0)\n",
    "\n",
    "# Display the updated expense details\n",
    "print(\"\\nUpdated Expense:\")\n",
    "print(expense.to_dict())\n"
   ]
  },
  {
   "cell_type": "code",
   "execution_count": 3,
   "id": "f037af40",
   "metadata": {},
   "outputs": [],
   "source": [
    "class ExpenseDatabase:\n",
    "    def __init__(self):\n",
    "        self.expenses = []\n",
    "\n",
    "    def add_expense(self, expense):\n",
    "        self.expenses.append(expense)\n",
    "\n",
    "    def remove_expense(self, expense_id):\n",
    "        self.expenses = [e for e in self.expenses if e.id != expense_id]\n",
    "\n",
    "    def get_expense_by_id(self, expense_id):\n",
    "        for expense in self.expenses:\n",
    "            if expense.id == expense_id:\n",
    "                return expense\n",
    "        return None\n",
    "\n",
    "    def get_expenses_by_title(self, title):\n",
    "        return [expense for expense in self.expenses if expense.title == title]\n",
    "\n",
    "    def to_dict(self):\n",
    "        return [expense.to_dict() for expense in self.expenses]\n"
   ]
  },
  {
   "cell_type": "code",
   "execution_count": 4,
   "id": "981ecb1a",
   "metadata": {},
   "outputs": [
    {
     "name": "stdout",
     "output_type": "stream",
     "text": [
      "Initial Expenses:\n",
      "[{'id': 'f1cd2b53-8f72-4fed-926c-3280b297325d', 'title': 'Groceries', 'amount': 100.0, 'created_at': '2023-12-24T19:37:16.913694+00:00', 'updated_at': '2023-12-24T19:37:16.913694+00:00'}, {'id': '0ec0a63e-64e2-4bcb-939e-873692c70d2b', 'title': 'Transportation', 'amount': 50.0, 'created_at': '2023-12-24T19:37:16.913694+00:00', 'updated_at': '2023-12-24T19:37:16.913694+00:00'}]\n",
      "\n",
      "Expenses after Removal:\n",
      "[{'id': '0ec0a63e-64e2-4bcb-939e-873692c70d2b', 'title': 'Transportation', 'amount': 50.0, 'created_at': '2023-12-24T19:37:16.913694+00:00', 'updated_at': '2023-12-24T19:37:16.913694+00:00'}]\n"
     ]
    }
   ],
   "source": [
    "# Create an instance of the ExpenseDatabase class\n",
    "expense_db = ExpenseDatabase()\n",
    "\n",
    "# Create some Expense instances\n",
    "expense1 = Expense(\"Groceries\", 100.0)\n",
    "expense2 = Expense(\"Transportation\", 50.0)\n",
    "\n",
    "# Add expenses to the database\n",
    "expense_db.add_expense(expense1)\n",
    "expense_db.add_expense(expense2)\n",
    "\n",
    "# Display the initial list of expenses\n",
    "print(\"Initial Expenses:\")\n",
    "print(expense_db.to_dict())\n",
    "\n",
    "# Remove an expense by ID\n",
    "expense_db.remove_expense(expense1.id)\n",
    "\n",
    "# Display the list of expenses after removal\n",
    "print(\"\\nExpenses after Removal:\")\n",
    "print(expense_db.to_dict())\n"
   ]
  },
  {
   "cell_type": "code",
   "execution_count": null,
   "id": "8f3ae4f6",
   "metadata": {},
   "outputs": [],
   "source": []
  }
 ],
 "metadata": {
  "kernelspec": {
   "display_name": "Python 3 (ipykernel)",
   "language": "python",
   "name": "python3"
  },
  "language_info": {
   "codemirror_mode": {
    "name": "ipython",
    "version": 3
   },
   "file_extension": ".py",
   "mimetype": "text/x-python",
   "name": "python",
   "nbconvert_exporter": "python",
   "pygments_lexer": "ipython3",
   "version": "3.9.13"
  }
 },
 "nbformat": 4,
 "nbformat_minor": 5
}
